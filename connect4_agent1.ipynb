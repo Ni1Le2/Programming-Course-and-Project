{
 "cells": [
  {
   "cell_type": "markdown",
   "id": "45cf91f4",
   "metadata": {},
   "source": [
    "class Player(index, round):\n",
    "    - index: 1: starts, yellow/X; 2: goes second, red/O\n",
    "    - round: indicates which round we are in -> is this necessary?\n",
    "    - def place_coin(grid, column): places coin in the given column\n",
    "        - check if/how many coins are already in the column and put it on top of highest coin\n",
    "        - check if column is alreday filled (can not place coin)\n",
    "        - return updated grid\n",
    "    - def check_game(grid): check if someone has won the game\n",
    "        - check if last player has connected 4 (horizontal, vertical, diagonal)\n",
    "        - check if game is finished without winner (no win possible)\n",
    "    - def display_game(grid): show game state and ask for next move\n",
    "        - returns column of next move\n",
    "        - shows game like this: 6 rows, 7 columns\n",
    "\n",
    "        | | | | | | | |\n",
    "        | | | | | | | |\n",
    "        | | | | | | | |\n",
    "        | | | | | | | |\n",
    "        | | | | | | | |\n",
    "        | | | | | | | |     \n",
    "        \n",
    "        Player 1: Make your move\n",
    "        Move: 3\n",
    "                \n",
    "        | | | | | | | |\n",
    "        | | | | | | | |\n",
    "        | | | | | | | |\n",
    "        | | | | | | | |\n",
    "        | | | | | | | |\n",
    "        | | |X| | | | |     \n",
    "        \n",
    "        Player 2: Make your move\n",
    "        ...\n",
    "        Move: 4\n",
    "                \n",
    "        | | | | | | | |\n",
    "        | | | | | | | |\n",
    "        | | | | | | | |\n",
    "        | | | | | | | |\n",
    "        | | | | | | | |\n",
    "        | | |X|O| | | | \n",
    "                        \n",
    "        Player 1: Make your move\n",
    "        ...\n",
    "\n",
    "        \n",
    "        \n",
    "\n"
   ]
  },
  {
   "cell_type": "markdown",
   "id": "6a2d3561",
   "metadata": {},
   "source": []
  }
 ],
 "metadata": {
  "kernelspec": {
   "display_name": ".venv",
   "language": "python",
   "name": "python3"
  },
  "language_info": {
   "name": "python",
   "version": "3.9.0"
  }
 },
 "nbformat": 4,
 "nbformat_minor": 5
}
